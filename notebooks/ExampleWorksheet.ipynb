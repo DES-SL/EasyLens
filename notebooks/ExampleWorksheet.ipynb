{
 "cells": [
  {
   "cell_type": "markdown",
   "metadata": {},
   "source": [
    "# Example EasyLens Worksheet"
   ]
  },
  {
   "cell_type": "markdown",
   "metadata": {},
   "source": [
    "Welcome to EasyLens! This notebook will take you through all the steps in modeling a strong lens system using in multi-band survey data."
   ]
  },
  {
   "cell_type": "markdown",
   "metadata": {},
   "source": [
    "## 1. Set up your workbench\n",
    "\n",
    "First we need to make sure we have all the software we need, and also get the data that we will be working on. The first step is to `pip install` all the packages in `requirements.txt`, like this:\n",
    "```\n",
    "pip install -r requirements.txt\n",
    "```\n",
    "Next, you'll need to do\n",
    "```\n",
    "python setup.py install\n",
    "```\n",
    "from the top level EasyLens directory to get all the EasyLens code onto your PYTHONPATH.\n",
    "\n",
    "Once this is all done, you can run this notebook, starting with the following `import` cell."
   ]
  },
  {
   "cell_type": "code",
   "execution_count": null,
   "metadata": {
    "collapsed": false
   },
   "outputs": [],
   "source": [
    "# External modules - try \"pip install <module>\" if you get an error.\n",
    "import astropy.io.fits as pyfits\n",
    "import astropy.wcs as pywcs\n",
    "import pickle\n",
    "import numpy as np\n",
    "import os\n",
    "import easylens\n",
    "\n",
    "# It'll make the notebook clearer if we get a few tools out and give them easy names:\n",
    "from easylens.Data.lens_system import LensSystem\n",
    "from easylens.Data.show_lens import ShowLens\n",
    "from easylens.Data.exposure import Exposure\n",
    "import easylens.util as util\n",
    "\n",
    "# We'll be doing some plotting:\n",
    "import matplotlib.pyplot as plt\n",
    "%matplotlib inline\n",
    "from mpl_toolkits.axes_grid1 import AxesGrid, make_axes_locatable"
   ]
  },
  {
   "cell_type": "markdown",
   "metadata": {
    "collapsed": true
   },
   "source": [
    "## 2.  Which lens are we going to model?\n",
    "\n",
    "In this example, we'll use the system whose cutout images have been checked into the `data` directory. In future, we'll provide code to download any set of images you want to model. In either case we need to specify the lens *name*, and the *bandpasses* we'll be using."
   ]
  },
  {
   "cell_type": "code",
   "execution_count": null,
   "metadata": {
    "collapsed": false
   },
   "outputs": [],
   "source": [
    "LENS = 'DESJ033056.9318-522813.0188'\n",
    "FILTERS = ['g','r','i','z']"
   ]
  },
  {
   "cell_type": "code",
   "execution_count": null,
   "metadata": {
    "collapsed": true
   },
   "outputs": [],
   "source": [
    "# When the data is local, we just need to specify the path to the data folders. \n",
    "DATA_DIR = '../data/'+LENS"
   ]
  },
  {
   "cell_type": "code",
   "execution_count": null,
   "metadata": {
    "collapsed": false
   },
   "outputs": [],
   "source": [
    "# Now we can set up our file names, stored in a dictionary to enable reference by filter:\n",
    "SCIFILE = {}\n",
    "WHTFILE = {}\n",
    "PSFFILE = {}\n",
    "for filter in FILTERS:\n",
    "    SCIFILE[filter] = DATA_DIR+'/'+LENS+'_'+filter+'_sci.fits'\n",
    "    WHTFILE[filter] = DATA_DIR+'/'+LENS+'_'+filter+'_wht.fits'\n",
    "    PSFFILE[filter] = DATA_DIR+'/'+LENS+'_'+filter+'_psf.fits'"
   ]
  },
  {
   "cell_type": "markdown",
   "metadata": {},
   "source": [
    "## 3. Make a lens system object\n",
    "\n",
    "Here's where we start making our model. We'll need to give it some images, and tell it where on the sky it is."
   ]
  },
  {
   "cell_type": "code",
   "execution_count": null,
   "metadata": {
    "collapsed": false
   },
   "outputs": [],
   "source": [
    "# Get the sky position from one of the science images:\n",
    "ra_center, dec_center = util.get_ra_dec_center(SCIFILE['g'])\n",
    "\n",
    "# Initialize the model:\n",
    "lensSystem = LensSystem(name=\"object03\", ra=ra_center, dec=dec_center)"
   ]
  },
  {
   "cell_type": "markdown",
   "metadata": {},
   "source": [
    "The lens system now needs to be given the images we have of it. Each cutout image needs to be accompanied by a 'weight' (`wht`) and PSF (`psf`) image; the `Exposure` class stores all three of these images together.  "
   ]
  },
  {
   "cell_type": "code",
   "execution_count": null,
   "metadata": {
    "collapsed": false,
    "scrolled": true
   },
   "outputs": [],
   "source": [
    "# Let's keep the images in a dictionary, so we can refer to them by filter.\n",
    "image = {}\n",
    "\n",
    "for filter in FILTERS:\n",
    "\n",
    "    # Set up an image object for this filter:\n",
    "    image[filter] = Exposure(lensSystem.ra, lensSystem.dec)    \n",
    "    image[filter].load_all(SCIFILE[filter],PSFFILE[filter],WHTFILE[filter])\n",
    "\n",
    "    # Add this image to the model:\n",
    "    lensSystem.add_image_data(image[filter], filter+'_band')"
   ]
  },
  {
   "cell_type": "markdown",
   "metadata": {},
   "source": [
    "### show images"
   ]
  },
  {
   "cell_type": "code",
   "execution_count": null,
   "metadata": {
    "collapsed": false,
    "scrolled": false
   },
   "outputs": [],
   "source": [
    "showLens = ShowLens(lensSystem)\n",
    "print \"Cutout images\"\n",
    "f, axes = showLens.show_images()\n",
    "plt.show()\n",
    "\n",
    "print \"PSF images\"\n",
    "f, axes = showLens.show_psf()\n",
    "plt.show()\n",
    "\n",
    "print \"Looking for the mask center locations\"\n",
    "%matplotlib notebook\n",
    "f = showLens.show_single(2) #use number of band as input value: 1 for g_band, 2 for r_band etc."
   ]
  },
  {
   "cell_type": "markdown",
   "metadata": {},
   "source": [
    "### assign masks for different objects\n",
    "Define the center of the mask according the pixel you find in the picture above. Feel free to use the zoom functions etc. "
   ]
  },
  {
   "cell_type": "code",
   "execution_count": null,
   "metadata": {
    "collapsed": false
   },
   "outputs": [],
   "source": [
    "%matplotlib inline\n",
    "xpix_1 = 50\n",
    "ypix_1 = 49\n",
    "\n",
    "xpix_2 = 77\n",
    "ypix_2 = 45\n",
    "\n",
    "ra_pos_1, dec_pos_1 = lensSystem.get_angle_coord('r_band',50,49)\n",
    "ra_pos_2, dec_pos_2 = lensSystem.get_angle_coord('r_band',74,45)\n",
    "\n",
    "print('Source 1')\n",
    "print('RA/DEC=',ra_pos_1,'/',dec_pos_1)\n",
    "print('Source 2')\n",
    "print('RA/DEC=',ra_pos_2,'/',dec_pos_2)\n",
    "\n",
    "kwargs_mask = {\"type\": \"circular\", \"ra_c\": 2, \"dec_c\": 1, \"width\": 10, \"radius\": 12}\n",
    "kwargs_mask_source1 = {\"type\": \"circular\", \"ra_c\": 0, \"dec_c\": 0, \"width\": 10, \"radius\": 4}\n",
    "kwargs_mask_source2 = {\"type\": \"circular\", \"ra_c\": ra_pos_2, \"dec_c\": dec_pos_2, \"width\": 10, \"radius\": 2}"
   ]
  },
  {
   "cell_type": "markdown",
   "metadata": {},
   "source": [
    "Plot pictures with newly defined masks"
   ]
  },
  {
   "cell_type": "code",
   "execution_count": null,
   "metadata": {
    "collapsed": false
   },
   "outputs": [],
   "source": [
    "f, axes = showLens.show_images(ra_pos_2, dec_pos_2, kwargs_mask)\n",
    "plt.show()\n",
    "\n",
    "f, axes = showLens.show_images(ra_pos_2, dec_pos_2, kwargs_mask_source1)\n",
    "plt.show()\n",
    "\n",
    "f, axes = showLens.show_images(ra_pos_2, dec_pos_2, kwargs_mask_source2)\n",
    "plt.show()\n",
    "\n",
    "f, axes = showLens.show_pixel_hist()\n",
    "plt.show()"
   ]
  },
  {
   "cell_type": "code",
   "execution_count": null,
   "metadata": {
    "collapsed": false
   },
   "outputs": [],
   "source": [
    "from easylens.easylens import EasyLens\n",
    "easyLens = EasyLens(lensSystem, frame_bool = {\"g_band\": True, \"r_band\": True, \"i_band\": True,\n",
    "            \"Y_band\": False, \"z_band\": True}, subgrid_res=2, lens_type='SPEMD')\n",
    "\n",
    "w_SED1 = lensSystem.get_sed_estimate(ra_pos_1, dec_pos_1)\n",
    "w_SED2 = lensSystem.get_sed_estimate(ra_pos_2, dec_pos_2)\n",
    "print w_SED1, w_SED2"
   ]
  },
  {
   "cell_type": "markdown",
   "metadata": {},
   "source": [
    "Now choose one particular band, for which we will show some reference pictures. "
   ]
  },
  {
   "cell_type": "code",
   "execution_count": null,
   "metadata": {
    "collapsed": true
   },
   "outputs": [],
   "source": [
    "refb = 'g_band'"
   ]
  },
  {
   "cell_type": "markdown",
   "metadata": {},
   "source": [
    "### SED modeling of source 1 (primary the lensing galaxy)"
   ]
  },
  {
   "cell_type": "code",
   "execution_count": null,
   "metadata": {
    "collapsed": false
   },
   "outputs": [],
   "source": [
    "from easylens.easylens import Source\n",
    "#ra_pos_1 = 0\n",
    "#dec_pos_1 = 0\n",
    "beta_1 = 1.5\n",
    "n_max_1 = 20\n",
    "\n",
    "#kwargs_mask_test = {\"type\": \"square\", \"ra_c\": 2, \"dec_c\": 1, \"width\": 20, \"radius\": 12}\n",
    "\n",
    "source1 = Source(name=\"source1\", ra_pos=ra_pos_1, dec_pos=dec_pos_1, beta=beta_1, n_max=n_max_1, w_SED=w_SED1, lens_bool=False)\n",
    "easyLens.add_source(source1, over_write=True)\n",
    "easyLens.del_source(\"source2\")\n",
    "easyLens.update_mask(kwargs_mask_source1)\n",
    "numPix = easyLens.get_pixels_unmasked()\n",
    "d = easyLens.get_data_vector()\n",
    "C_D_inv = easyLens.get_C_D_inv_vector()\n",
    "\n",
    "for i in range(2):\n",
    "    A = easyLens.get_response()\n",
    "    param_array, model_array = easyLens.get_inverted(A, C_D_inv, d)\n",
    "\n",
    "    data_list = easyLens.get_data_list()\n",
    "    model_list = easyLens.get_model_images(model_array)\n",
    "    residual_list = easyLens.get_residuals(model_array)\n",
    "    de_convolved_list = easyLens.get_deconvolved(param_array)\n",
    "    source_list_ref = easyLens.get_sources_original(param_array, refb)    \n",
    "    \n",
    "    A_sed = easyLens.get_response_sed(param_array)\n",
    "    param_sed_array, model_sed_array = easyLens.get_inverted(A_sed, C_D_inv, d)\n",
    "    w_SED1 = {'g_band': param_sed_array[0], 'r_band': param_sed_array[1], 'i_band': param_sed_array[2], 'z_band': param_sed_array[3]}\n",
    "    source1 = Source(name=\"source1\", ra_pos=ra_pos_1, dec_pos=dec_pos_1, beta=beta_1, n_max=n_max_1, w_SED=w_SED1, lens_bool=False)\n",
    "    easyLens.add_source(source1, over_write=True)"
   ]
  },
  {
   "cell_type": "code",
   "execution_count": null,
   "metadata": {
    "collapsed": false
   },
   "outputs": [],
   "source": [
    "frame_list = easyLens.frame_list\n",
    "print i\n",
    "chi2 = np.sum((model_array-d)**2*C_D_inv)/numPix\n",
    "print chi2\n",
    "# residuals\n",
    "print(\"residual images\")\n",
    "f, axes = showLens.show_list(residual_list, frame_list)\n",
    "plt.show()\n",
    "# sources separate\n",
    "print(\"sources\")\n",
    "f, axes = showLens.show_list(source_list_ref, [refb])\n",
    "plt.show()"
   ]
  },
  {
   "cell_type": "markdown",
   "metadata": {},
   "source": [
    "### SED modeling of source 2 (primary the source galaxy)"
   ]
  },
  {
   "cell_type": "code",
   "execution_count": null,
   "metadata": {
    "collapsed": false
   },
   "outputs": [],
   "source": [
    "#ra_pos_2 = ra_pos_2         \n",
    "#dec_pos_2 = dec_pos_2\n",
    "beta_2 = 1.\n",
    "n_max_2 = 10\n",
    "\n",
    "\n",
    "source2 = Source(name=\"source1\", ra_pos=ra_pos_2, dec_pos=dec_pos_2, beta=beta_2, n_max=n_max_2, w_SED=w_SED2, lens_bool=False)\n",
    "easyLens.add_source(source2, over_write=True)\n",
    "easyLens.del_source(\"source2\")\n",
    "easyLens.update_mask(kwargs_mask_source2)\n",
    "numPix = easyLens.get_pixels_unmasked()\n",
    "d = easyLens.get_data_vector()\n",
    "C_D_inv = easyLens.get_C_D_inv_vector()\n",
    "\n",
    "for i in range(3):\n",
    "    A = easyLens.get_response()\n",
    "    param_array, model_array = easyLens.get_inverted(A, C_D_inv, d)\n",
    "\n",
    "    data_list = easyLens.get_data_list()\n",
    "    model_list = easyLens.get_model_images(model_array)\n",
    "    residual_list = easyLens.get_residuals(model_array)\n",
    "    de_convolved_list = easyLens.get_deconvolved(param_array)\n",
    "    source_list_ref = easyLens.get_sources_original(param_array, refb)    \n",
    "    \n",
    "    A_sed = easyLens.get_response_sed(param_array)\n",
    "    param_sed_array, model_sed_array = easyLens.get_inverted(A_sed, C_D_inv, d)\n",
    "    w_SED2 = {'g_band': param_sed_array[0], 'r_band': param_sed_array[1], 'i_band': param_sed_array[2], 'z_band': param_sed_array[3]}\n",
    "    source2 = Source(name=\"source2\", ra_pos=ra_pos_2, dec_pos=dec_pos_2, beta=beta_2, n_max=n_max_2, w_SED=w_SED2, lens_bool=False)\n",
    "    easyLens.add_source(source2, over_write=True)"
   ]
  },
  {
   "cell_type": "code",
   "execution_count": null,
   "metadata": {
    "collapsed": false
   },
   "outputs": [],
   "source": [
    "frame_list = easyLens.frame_list\n",
    "print i\n",
    "chi2 = np.sum((model_array-d)**2*C_D_inv)/numPix\n",
    "print chi2\n",
    "# residuals\n",
    "print(\"residual images\")\n",
    "f, axes = showLens.show_list(residual_list, frame_list)\n",
    "plt.show()\n",
    "\n",
    "# sources separate\n",
    "print(\"sources\")\n",
    "f, axes = showLens.show_list(source_list_ref, [refb])\n",
    "plt.show()"
   ]
  },
  {
   "cell_type": "markdown",
   "metadata": {},
   "source": [
    "## add sources together"
   ]
  },
  {
   "cell_type": "code",
   "execution_count": null,
   "metadata": {
    "collapsed": false
   },
   "outputs": [],
   "source": [
    "beta=1.3\n",
    "n_max = 20\n",
    "source1 = Source(name=\"source1\", ra_pos=0, dec_pos=0, beta=beta, n_max=n_max, w_SED=w_SED1, lens_bool=False)\n",
    "source2 = Source(name=\"source2\", ra_pos=ra_pos_2, dec_pos=dec_pos_2, beta=beta, n_max=n_max, w_SED=w_SED2, lens_bool=False)\n",
    "easyLens.add_source(source1, over_write=True)\n",
    "easyLens.add_source(source2, over_write=True)\n",
    "easyLens.update_mask(kwargs_mask)"
   ]
  },
  {
   "cell_type": "markdown",
   "metadata": {},
   "source": [
    "## joint fit (but unlensed)"
   ]
  },
  {
   "cell_type": "code",
   "execution_count": null,
   "metadata": {
    "collapsed": false
   },
   "outputs": [],
   "source": [
    "d = easyLens.get_data_vector()\n",
    "C_D_inv = easyLens.get_C_D_inv_vector()\n",
    "A = easyLens.get_response()\n",
    "param_array, model_array = easyLens.get_inverted(A, C_D_inv, d)"
   ]
  },
  {
   "cell_type": "code",
   "execution_count": null,
   "metadata": {
    "collapsed": false
   },
   "outputs": [],
   "source": [
    "data_list = easyLens.get_data_list()\n",
    "model_list = easyLens.get_model_images(model_array)\n",
    "residual_list = easyLens.get_residuals(model_array)\n",
    "de_convolved_list = easyLens.get_deconvolved(param_array)\n",
    "source_list_ref = easyLens.get_sources_original(param_array, refb)\n",
    "frame_list = easyLens.frame_list\n",
    "\n",
    "numPix = easyLens.get_pixels_unmasked()\n",
    "chi2 = np.sum((model_array-d)**2*C_D_inv)/numPix\n",
    "print chi2\n",
    "\n",
    "# original images\n",
    "print(\"original images\")\n",
    "f, axes = showLens.show_list(data_list, frame_list)\n",
    "plt.show()\n",
    "\n",
    "\n",
    "# modeled images\n",
    "print(\"modeled images\")\n",
    "f, axes = showLens.show_list(model_list, frame_list)\n",
    "plt.show()\n",
    "\n",
    "# residuals\n",
    "print(\"residual images\")\n",
    "f, axes = showLens.show_list(residual_list, frame_list)\n",
    "plt.show()\n",
    "\n",
    "# de-convolved images\n",
    "print(\"de-convolved images\")\n",
    "f, axes = showLens.show_list(de_convolved_list, frame_list)\n",
    "plt.show()\n",
    "\n",
    "# sources separate\n",
    "print(\"sources\")\n",
    "f, axes = showLens.show_list(source_list_ref, [refb, refb])\n",
    "plt.show()"
   ]
  },
  {
   "cell_type": "markdown",
   "metadata": {
    "collapsed": true
   },
   "source": [
    "## joint and lensed fit\n",
    "try to fit with the same $\\beta$ and $n_{max}$ as above. "
   ]
  },
  {
   "cell_type": "code",
   "execution_count": null,
   "metadata": {
    "collapsed": false
   },
   "outputs": [],
   "source": [
    "beta = 1.3\n",
    "n_max = 20\n",
    "source1 = Source(name=\"source1\", ra_pos=0, dec_pos=0, beta=beta, n_max=n_max, w_SED=w_SED1, lens_bool=False)\n",
    "source2 = Source(name=\"source2\", ra_pos=ra_pos_2, dec_pos=dec_pos_2, beta=0.6, n_max=5, w_SED=w_SED2, lens_bool=True)\n",
    "easyLens.add_source(source1, over_write=True)\n",
    "easyLens.add_source(source2, over_write=True)\n",
    "easyLens.update_mask(kwargs_mask)\n",
    "update = False\n",
    "#{'e_2': 0.12185159487243634, 'e_1': 0.066152388530625786, 'center_x': -0.64365565246052192, 'center_y': 0.023685031811570757, \n",
    "#'phi_E': 5.5195718134302467, 'gamma': 1.8214123493075136}\n",
    "if update is True:\n",
    "    kwargs_lens = {\"phi_E\": np.mean(samples[:,0]), \"center_x\": np.mean(samples[:,1]), \"center_y\": np.mean(samples[:,2]), \n",
    "                   \"gamma\":np.mean(samples[:,3]), \"e1\":np.mean(samples[:,4]), \"e2\":np.mean(samples[:,5])}\n",
    "    print kwargs_lens\n",
    "#kwargs_lens = {\"phi_E_sis\": 4.7, \"center_x_sis\": -0.55, \"center_y_sis\": -0.3}\n",
    "else:\n",
    "    kwargs_lens = {\"phi_E\": 5.3, \"center_x\": 0.7, \"center_y\": 1.7,'gamma':1.7,'e1':0.2, 'e2':0.5}\n",
    "easyLens.add_lens(kwargs_lens)"
   ]
  },
  {
   "cell_type": "code",
   "execution_count": null,
   "metadata": {
    "collapsed": false,
    "scrolled": false
   },
   "outputs": [],
   "source": [
    "d = easyLens.get_data_vector()\n",
    "C_D_inv = easyLens.get_C_D_inv_vector()\n",
    "A = easyLens.get_response()\n",
    "param_array, model_array = easyLens.get_inverted(A, C_D_inv, d)\n",
    "\n",
    "save_image = True\n",
    "data_list = easyLens.get_data_list()\n",
    "model_list = easyLens.get_model_images(model_array)\n",
    "residual_list = easyLens.get_residuals(model_array)\n",
    "de_convolved_list = easyLens.get_deconvolved(param_array)\n",
    "source_list_original_ref = easyLens.get_sources_original(param_array, refb)\n",
    "source_list_lensed_ref = easyLens.get_sources_lensed(param_array, refb)\n",
    "source_list_image_ref = easyLens.get_sources_image(param_array, refb)\n",
    "frame_list = easyLens.frame_list\n",
    "\n",
    "numPix = easyLens.get_pixels_unmasked()\n",
    "chi2 = np.sum((model_array-d)**2*C_D_inv)/numPix\n",
    "print chi2\n",
    "%matplotlib inline\n",
    "# original images\n",
    "print(\"original images\")\n",
    "f, axes = showLens.show_list(data_list, frame_list)\n",
    "if save_image is True:\n",
    "    plt.savefig('original_images.pdf', format='pdf')\n",
    "plt.show()\n",
    "\n",
    "\n",
    "# modeled images\n",
    "print(\"modeled images\")\n",
    "f, axes = showLens.show_list(model_list, frame_list)\n",
    "if save_image is True:\n",
    "    plt.savefig('modeled_images.pdf', format='pdf')\n",
    "plt.show()\n",
    "\n",
    "# residuals\n",
    "print(\"residual images\")\n",
    "f, axes = showLens.show_list(residual_list, frame_list)\n",
    "if save_image is True:\n",
    "    plt.savefig('residual_images.pdf', format='pdf')\n",
    "plt.show()\n",
    "\n",
    "# de-convolved images\n",
    "print(\"de-convolved images\")\n",
    "f, axes = showLens.show_list(de_convolved_list, frame_list)\n",
    "if save_image is True:\n",
    "    plt.savefig('de_convolved_images.pdf', format='pdf')\n",
    "plt.show()\n",
    "\n",
    "# sources separate\n",
    "print(\"sources original\")\n",
    "f, axes = showLens.show_list(source_list_original_ref, [refb, refb])\n",
    "if save_image is True:\n",
    "    plt.savefig('original_objects.pdf', format='pdf')\n",
    "plt.show()\n",
    "\n",
    "\n",
    "print(\"sources lensed\")\n",
    "f, axes = showLens.show_list(source_list_lensed_ref, [refb, refb])\n",
    "if save_image is True:\n",
    "    plt.savefig('lensed_objects.pdf', format='pdf')\n",
    "plt.show()\n",
    "\n",
    "print(\"sources lensed and convolved\")\n",
    "f, axes = showLens.show_list(source_list_image_ref, [refb, refb])\n",
    "if save_image is True:\n",
    "    plt.savefig('lensed_convolved_objects.pdf', format='pdf')\n",
    "plt.show()"
   ]
  },
  {
   "cell_type": "code",
   "execution_count": null,
   "metadata": {
    "collapsed": false
   },
   "outputs": [],
   "source": [
    "from easylens.Fitting.mcmc import MCMC_sampler\n",
    "kwargs_fixed = {}\n",
    "kwargs_lens = {\"phi_E\": 5.3, \"center_x\": 0.7, \"center_y\": 1.7, \"gamma\":1.7, 'e1':0.2, \"e2\":0.5}\n",
    "#kwargs_lens = {\"phi_E\": 4.7, \"center_x\": -0.55, \"center_y\": -0.3, \"gamma\":2., 'e1':0.1, \"e2\":0.2, 'e1_ext':0.01, 'e2_ext':0.01}\n",
    "sampler = MCMC_sampler(easyLens, kwargs_fixed)\n",
    "walkerRatio = 12\n",
    "n_run = 100\n",
    "n_burn = 100\n",
    "mean_start = [kwargs_lens[\"phi_E\"],  kwargs_lens[\"center_x\"], kwargs_lens[\"center_y\"], kwargs_lens[\"gamma\"], kwargs_lens[\"e1\"], kwargs_lens[\"e2\"]]\n",
    "#mean_start = [kwargs_lens[\"phi_E\"],  kwargs_lens[\"center_x\"], kwargs_lens[\"center_y\"], kwargs_lens[\"gamma\"], kwargs_lens[\"e1\"], kwargs_lens[\"e2\"], kwargs_lens['e1_ext'], kwargs_lens['e2_ext']]\n",
    "#{\"phi_E\": 5.3, \"center_x\": 0.7, \"center_y\": 1.7,'gamma':1.7,'e1':0.2, 'e2':0.5}\n",
    "sigma_start = [0.1, 0.1, .1,.1,.1,.1]\n",
    "lowerLimit = [5., -10., -10.,1.5,-1.,-1.]\n",
    "upperLimit = [6., 10., 10.,2.5,1.,1.]\n",
    "samples, prob = sampler.mcmc_CH(walkerRatio, n_run, n_burn, mean_start, sigma_start, lowerLimit, upperLimit, threadCount=1, init_pos=None, mpi_monch=False)"
   ]
  },
  {
   "cell_type": "code",
   "execution_count": null,
   "metadata": {
    "collapsed": false
   },
   "outputs": [],
   "source": [
    "import corner\n",
    "\n",
    "corner.corner(samples)\n",
    "plt.savefig('spemd-12-100-100.eps')\n",
    "plt.show()"
   ]
  },
  {
   "cell_type": "code",
   "execution_count": null,
   "metadata": {
    "collapsed": true
   },
   "outputs": [],
   "source": []
  }
 ],
 "metadata": {
  "kernelspec": {
   "display_name": "Python 2",
   "language": "python",
   "name": "python2"
  },
  "language_info": {
   "codemirror_mode": {
    "name": "ipython",
    "version": 2
   },
   "file_extension": ".py",
   "mimetype": "text/x-python",
   "name": "python",
   "nbconvert_exporter": "python",
   "pygments_lexer": "ipython2",
   "version": "2.7.12"
  }
 },
 "nbformat": 4,
 "nbformat_minor": 0
}
