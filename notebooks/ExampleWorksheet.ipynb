{
 "cells": [
  {
   "cell_type": "markdown",
   "metadata": {},
   "source": [
    "# Example EasyLens Worksheet"
   ]
  },
  {
   "cell_type": "markdown",
   "metadata": {},
   "source": [
    "Welcome to EasyLens! This notebook will take you through all the steps in modeling a strong lens system using in multi-band survey data."
   ]
  },
  {
   "cell_type": "markdown",
   "metadata": {},
   "source": [
    "## 1. Set up your workbench\n",
    "\n",
    "First we need to make sure we have all the software we need, and also get the data that we will be working on. The first step is to `pip install` all the packages in `requirements.txt`, like this:\n",
    "```\n",
    "pip install -r requirements.txt\n",
    "```\n",
    "Next, you'll need to do\n",
    "```\n",
    "python setup.py install\n",
    "```\n",
    "from the top level EasyLens directory to get all the EasyLens code onto your PYTHONPATH.\n",
    "\n",
    "Once this is all done, you can run this notebook, starting with the following `import` cell."
   ]
  },
  {
   "cell_type": "code",
   "execution_count": 1,
   "metadata": {
    "collapsed": false
   },
   "outputs": [],
   "source": [
    "# External modules - try \"pip install <module>\" if you get an error.\n",
    "import astropy.io.fits as pyfits\n",
    "import astropy.wcs as pywcs\n",
    "import pickle\n",
    "import numpy as np\n",
    "import os\n",
    "import easylens\n",
    "\n",
    "# It'll make the notebook clearer if we get a few tools out and give them easy names:\n",
    "from easylens.Data.lens_system import LensSystem\n",
    "from easylens.Data.show_lens import ShowLens\n",
    "from easylens.Data.exposure import Exposure\n",
    "import easylens.util as util\n",
    "\n",
    "# We'll be doing some plotting:\n",
    "import matplotlib.pyplot as plt\n",
    "%matplotlib inline\n",
    "from mpl_toolkits.axes_grid1 import AxesGrid, make_axes_locatable"
   ]
  },
  {
   "cell_type": "markdown",
   "metadata": {
    "collapsed": true
   },
   "source": [
    "## 2.  Which lens are we going to model?\n",
    "\n",
    "In this example, we'll use the system whose cutout images have been checked into the `data` directory. In future, we'll provide code to download any set of images you want to model. In either case we need to specify the lens *name*, and the *bandpasses* we'll be using."
   ]
  },
  {
   "cell_type": "code",
   "execution_count": 2,
   "metadata": {
    "collapsed": false
   },
   "outputs": [],
   "source": [
    "LENS = 'DESJ033056.9318-522813.0188'\n",
    "FILTERS = ['g','r','i','z']"
   ]
  },
  {
   "cell_type": "code",
   "execution_count": 3,
   "metadata": {
    "collapsed": true
   },
   "outputs": [],
   "source": [
    "# When the data is local, we just need to specify the path to the data folders. \n",
    "DATA_DIR = '../data/'+LENS"
   ]
  },
  {
   "cell_type": "code",
   "execution_count": 4,
   "metadata": {
    "collapsed": false
   },
   "outputs": [],
   "source": [
    "# Now we can set up our file names, stored in a dictionary to enable reference by filter:\n",
    "SCIFILE = {}\n",
    "WHTFILE = {}\n",
    "PSFFILE = {}\n",
    "for filter in FILTERS:\n",
    "    SCIFILE[filter] = DATA_DIR+'/'+LENS+'_'+filter+'_sci.fits'\n",
    "    WHTFILE[filter] = DATA_DIR+'/'+LENS+'_'+filter+'_wht.fits'\n",
    "    PSFFILE[filter] = DATA_DIR+'/'+LENS+'_'+filter+'_psf.fits'"
   ]
  },
  {
   "cell_type": "markdown",
   "metadata": {},
   "source": [
    "## 3. Make a lens system object\n",
    "\n",
    "Here's where we start making our model. We'll need to give it some images, and tell it where on the sky it is."
   ]
  },
  {
   "cell_type": "code",
   "execution_count": 5,
   "metadata": {
    "collapsed": false
   },
   "outputs": [
    {
     "name": "stderr",
     "output_type": "stream",
     "text": [
      "WARNING: FITSFixedWarning: RADECSYS= 'ICRS ' / Astrometric system \n",
      "the RADECSYS keyword is deprecated, use RADESYSa. [astropy.wcs.wcs]\n",
      "WARNING: FITSFixedWarning: 'datfix' made the change 'Changed '' to '2013-10-28T05:47:52.823''. [astropy.wcs.wcs]\n"
     ]
    }
   ],
   "source": [
    "# Get the sky position from one of the science images:\n",
    "ra_center, dec_center = util.get_ra_dec_center(SCIFILE['g'])\n",
    "\n",
    "# Initialize the model:\n",
    "lensSystem = LensSystem(name=\"object03\", ra=ra_center, dec=dec_center)"
   ]
  },
  {
   "cell_type": "markdown",
   "metadata": {},
   "source": [
    "The lens system now needs to be given the images we have of it. Each cutout image needs to be accompanied by a 'weight' (`wht`) and PSF (`psf`) image; the `Exposure` class stores all three of these images together.  "
   ]
  },
  {
   "cell_type": "code",
   "execution_count": 6,
   "metadata": {
    "collapsed": false,
    "scrolled": true
   },
   "outputs": [
    {
     "name": "stdout",
     "output_type": "stream",
     "text": [
      "No filter file found, using default filter\n",
      "No NNW file found, using default NNW config\n",
      "Error during sextractor execution!\n"
     ]
    },
    {
     "ename": "TypeError",
     "evalue": "'NoneType' object has no attribute '__getitem__'",
     "output_type": "error",
     "traceback": [
      "\u001b[0;31m---------------------------------------------------------------------------\u001b[0m",
      "\u001b[0;31mTypeError\u001b[0m                                 Traceback (most recent call last)",
      "\u001b[0;32m<ipython-input-6-930044c4e5bc>\u001b[0m in \u001b[0;36m<module>\u001b[0;34m()\u001b[0m\n\u001b[1;32m      6\u001b[0m     \u001b[0;31m# Set up an image object for this filter:\u001b[0m\u001b[0;34m\u001b[0m\u001b[0;34m\u001b[0m\u001b[0m\n\u001b[1;32m      7\u001b[0m     \u001b[0mimage\u001b[0m\u001b[0;34m[\u001b[0m\u001b[0mfilter\u001b[0m\u001b[0;34m]\u001b[0m \u001b[0;34m=\u001b[0m \u001b[0mExposure\u001b[0m\u001b[0;34m(\u001b[0m\u001b[0mlensSystem\u001b[0m\u001b[0;34m.\u001b[0m\u001b[0mra\u001b[0m\u001b[0;34m,\u001b[0m \u001b[0mlensSystem\u001b[0m\u001b[0;34m.\u001b[0m\u001b[0mdec\u001b[0m\u001b[0;34m)\u001b[0m\u001b[0;34m\u001b[0m\u001b[0m\n\u001b[0;32m----> 8\u001b[0;31m     \u001b[0mimage\u001b[0m\u001b[0;34m[\u001b[0m\u001b[0mfilter\u001b[0m\u001b[0;34m]\u001b[0m\u001b[0;34m.\u001b[0m\u001b[0mload_all\u001b[0m\u001b[0;34m(\u001b[0m\u001b[0mSCIFILE\u001b[0m\u001b[0;34m[\u001b[0m\u001b[0mfilter\u001b[0m\u001b[0;34m]\u001b[0m\u001b[0;34m,\u001b[0m\u001b[0mPSFFILE\u001b[0m\u001b[0;34m[\u001b[0m\u001b[0mfilter\u001b[0m\u001b[0;34m]\u001b[0m\u001b[0;34m,\u001b[0m\u001b[0mWHTFILE\u001b[0m\u001b[0;34m[\u001b[0m\u001b[0mfilter\u001b[0m\u001b[0;34m]\u001b[0m\u001b[0;34m)\u001b[0m\u001b[0;34m\u001b[0m\u001b[0m\n\u001b[0m\u001b[1;32m      9\u001b[0m \u001b[0;34m\u001b[0m\u001b[0m\n\u001b[1;32m     10\u001b[0m     \u001b[0;31m# Add this image to the model:\u001b[0m\u001b[0;34m\u001b[0m\u001b[0;34m\u001b[0m\u001b[0m\n",
      "\u001b[0;32m/Users/pjm/miniconda2/lib/python2.7/site-packages/easylens-0.1.0-py2.7.egg/easylens/Data/exposure.pyc\u001b[0m in \u001b[0;36mload_all\u001b[0;34m(self, path2exposure_fits, path2psf, path2weight, cutout_pix)\u001b[0m\n\u001b[1;32m     80\u001b[0m         \u001b[0;34m:\u001b[0m\u001b[0;32mreturn\u001b[0m\u001b[0;34m:\u001b[0m\u001b[0;34m\u001b[0m\u001b[0m\n\u001b[1;32m     81\u001b[0m         \"\"\"\n\u001b[0;32m---> 82\u001b[0;31m         \u001b[0mself\u001b[0m\u001b[0;34m.\u001b[0m\u001b[0mload_exposure\u001b[0m\u001b[0;34m(\u001b[0m\u001b[0mpath2exposure_fits\u001b[0m\u001b[0;34m,\u001b[0m \u001b[0mcutout_pix\u001b[0m\u001b[0;34m=\u001b[0m\u001b[0mcutout_pix\u001b[0m\u001b[0;34m)\u001b[0m\u001b[0;34m\u001b[0m\u001b[0m\n\u001b[0m\u001b[1;32m     83\u001b[0m         \u001b[0;32mif\u001b[0m \u001b[0mpath2psf\u001b[0m \u001b[0;34m==\u001b[0m \u001b[0mpath2exposure_fits\u001b[0m\u001b[0;34m:\u001b[0m\u001b[0;34m\u001b[0m\u001b[0m\n\u001b[1;32m     84\u001b[0m             \u001b[0mkernel\u001b[0m\u001b[0;34m,\u001b[0m \u001b[0mrestrict_psf\u001b[0m\u001b[0;34m,\u001b[0m \u001b[0mx_list\u001b[0m\u001b[0;34m,\u001b[0m \u001b[0my_list\u001b[0m\u001b[0;34m,\u001b[0m \u001b[0mmask\u001b[0m\u001b[0;34m,\u001b[0m \u001b[0mmag\u001b[0m\u001b[0;34m,\u001b[0m \u001b[0msize\u001b[0m\u001b[0;34m,\u001b[0m \u001b[0mkwargs_cut\u001b[0m \u001b[0;34m=\u001b[0m \u001b[0mself\u001b[0m\u001b[0;34m.\u001b[0m\u001b[0manalysis\u001b[0m\u001b[0;34m.\u001b[0m\u001b[0mestimate_psf\u001b[0m\u001b[0;34m(\u001b[0m\u001b[0mpath2exposure_fits\u001b[0m\u001b[0;34m)\u001b[0m\u001b[0;34m\u001b[0m\u001b[0m\n",
      "\u001b[0;32m/Users/pjm/miniconda2/lib/python2.7/site-packages/easylens-0.1.0-py2.7.egg/easylens/Data/exposure.pyc\u001b[0m in \u001b[0;36mload_exposure\u001b[0;34m(self, path2exposure_fits, cutout_pix)\u001b[0m\n\u001b[1;32m     44\u001b[0m             \u001b[0mself\u001b[0m\u001b[0;34m.\u001b[0m\u001b[0m_image_data\u001b[0m\u001b[0;34m,\u001b[0m \u001b[0mself\u001b[0m\u001b[0;34m.\u001b[0m\u001b[0m_head\u001b[0m\u001b[0;34m,\u001b[0m \u001b[0mself\u001b[0m\u001b[0;34m.\u001b[0m\u001b[0m_ra_coords\u001b[0m\u001b[0;34m,\u001b[0m \u001b[0mself\u001b[0m\u001b[0;34m.\u001b[0m\u001b[0m_dec_coords\u001b[0m \u001b[0;34m=\u001b[0m \u001b[0mself\u001b[0m\u001b[0;34m.\u001b[0m\u001b[0mget_cutout\u001b[0m\u001b[0;34m(\u001b[0m\u001b[0mimage_full\u001b[0m\u001b[0;34m,\u001b[0m \u001b[0mself\u001b[0m\u001b[0;34m.\u001b[0m\u001b[0m_header_full\u001b[0m\u001b[0;34m,\u001b[0m \u001b[0mcutout_pix\u001b[0m\u001b[0;34m)\u001b[0m\u001b[0;34m\u001b[0m\u001b[0m\n\u001b[1;32m     45\u001b[0m         \u001b[0mself\u001b[0m\u001b[0;34m.\u001b[0m\u001b[0m_deltaPix\u001b[0m \u001b[0;34m=\u001b[0m \u001b[0mself\u001b[0m\u001b[0;34m.\u001b[0m\u001b[0m_head\u001b[0m\u001b[0;34m[\u001b[0m\u001b[0;34m'CD2_2'\u001b[0m\u001b[0;34m]\u001b[0m\u001b[0;34m*\u001b[0m\u001b[0;36m3600.\u001b[0m\u001b[0;34m\u001b[0m\u001b[0m\n\u001b[0;32m---> 46\u001b[0;31m         \u001b[0mself\u001b[0m\u001b[0;34m.\u001b[0m\u001b[0m_mean_bkg\u001b[0m\u001b[0;34m,\u001b[0m \u001b[0mself\u001b[0m\u001b[0;34m.\u001b[0m\u001b[0m_sigma_bkg\u001b[0m \u001b[0;34m=\u001b[0m \u001b[0mself\u001b[0m\u001b[0;34m.\u001b[0m\u001b[0manalysis\u001b[0m\u001b[0;34m.\u001b[0m\u001b[0mestimate_bkg\u001b[0m\u001b[0;34m(\u001b[0m\u001b[0mimage_full\u001b[0m\u001b[0;34m)\u001b[0m\u001b[0;34m\u001b[0m\u001b[0m\n\u001b[0m\u001b[1;32m     47\u001b[0m \u001b[0;34m\u001b[0m\u001b[0m\n\u001b[1;32m     48\u001b[0m \u001b[0;34m\u001b[0m\u001b[0m\n",
      "\u001b[0;32m/Users/pjm/miniconda2/lib/python2.7/site-packages/easylens-0.1.0-py2.7.egg/easylens/Data/image_analysis.pyc\u001b[0m in \u001b[0;36mestimate_bkg\u001b[0;34m(self, image)\u001b[0m\n\u001b[1;32m     23\u001b[0m         \"\"\"\n\u001b[1;32m     24\u001b[0m         \u001b[0mHDUFile\u001b[0m\u001b[0;34m,\u001b[0m \u001b[0m_\u001b[0m \u001b[0;34m=\u001b[0m \u001b[0mself\u001b[0m\u001b[0;34m.\u001b[0m\u001b[0m_get_cat\u001b[0m\u001b[0;34m(\u001b[0m\u001b[0mimage\u001b[0m\u001b[0;34m)\u001b[0m\u001b[0;34m\u001b[0m\u001b[0m\n\u001b[0;32m---> 25\u001b[0;31m         \u001b[0mmean\u001b[0m\u001b[0;34m,\u001b[0m \u001b[0mrms\u001b[0m \u001b[0;34m=\u001b[0m \u001b[0mself\u001b[0m\u001b[0;34m.\u001b[0m\u001b[0m_get_background\u001b[0m\u001b[0;34m(\u001b[0m\u001b[0mHDUFile\u001b[0m\u001b[0;34m)\u001b[0m\u001b[0;34m\u001b[0m\u001b[0m\n\u001b[0m\u001b[1;32m     26\u001b[0m         \u001b[0;32mreturn\u001b[0m \u001b[0mmean\u001b[0m\u001b[0;34m,\u001b[0m \u001b[0mrms\u001b[0m\u001b[0;34m\u001b[0m\u001b[0m\n\u001b[1;32m     27\u001b[0m \u001b[0;34m\u001b[0m\u001b[0m\n",
      "\u001b[0;32m/Users/pjm/miniconda2/lib/python2.7/site-packages/easylens-0.1.0-py2.7.egg/easylens/Data/image_analysis.pyc\u001b[0m in \u001b[0;36m_get_background\u001b[0;34m(self, HDUFile)\u001b[0m\n\u001b[1;32m     84\u001b[0m         \u001b[0mmean_found\u001b[0m \u001b[0;34m=\u001b[0m \u001b[0mFalse\u001b[0m\u001b[0;34m\u001b[0m\u001b[0m\n\u001b[1;32m     85\u001b[0m         \u001b[0mrms_found\u001b[0m \u001b[0;34m=\u001b[0m \u001b[0mFalse\u001b[0m\u001b[0;34m\u001b[0m\u001b[0m\n\u001b[0;32m---> 86\u001b[0;31m         \u001b[0mlist\u001b[0m \u001b[0;34m=\u001b[0m \u001b[0mHDUFile\u001b[0m\u001b[0;34m[\u001b[0m\u001b[0;36m1\u001b[0m\u001b[0;34m]\u001b[0m\u001b[0;34m.\u001b[0m\u001b[0mdata\u001b[0m\u001b[0;34m[\u001b[0m\u001b[0;36m0\u001b[0m\u001b[0;34m]\u001b[0m\u001b[0;34m[\u001b[0m\u001b[0;36m0\u001b[0m\u001b[0;34m]\u001b[0m\u001b[0;34m\u001b[0m\u001b[0m\n\u001b[0m\u001b[1;32m     87\u001b[0m         \u001b[0;32mfor\u001b[0m \u001b[0mline\u001b[0m \u001b[0;32min\u001b[0m \u001b[0mlist\u001b[0m\u001b[0;34m:\u001b[0m\u001b[0;34m\u001b[0m\u001b[0m\n\u001b[1;32m     88\u001b[0m             \u001b[0mline\u001b[0m \u001b[0;34m=\u001b[0m \u001b[0mline\u001b[0m\u001b[0;34m.\u001b[0m\u001b[0mstrip\u001b[0m\u001b[0;34m(\u001b[0m\u001b[0;34m)\u001b[0m\u001b[0;34m\u001b[0m\u001b[0m\n",
      "\u001b[0;31mTypeError\u001b[0m: 'NoneType' object has no attribute '__getitem__'"
     ]
    }
   ],
   "source": [
    "# Let's keep the images in a dictionary, so we can refer to them by filter.\n",
    "image = {}\n",
    "\n",
    "for filter in FILTERS:\n",
    "\n",
    "    # Set up an image object for this filter:\n",
    "    image[filter] = Exposure(lensSystem.ra, lensSystem.dec)    \n",
    "    image[filter].load_all(SCIFILE[filter],PSFFILE[filter],WHTFILE[filter])\n",
    "\n",
    "    # Add this image to the model:\n",
    "    lensSystem.add_image_data(image[filter], filter+'_band')"
   ]
  },
  {
   "cell_type": "markdown",
   "metadata": {},
   "source": [
    "### show images"
   ]
  },
  {
   "cell_type": "code",
   "execution_count": null,
   "metadata": {
    "collapsed": false
   },
   "outputs": [],
   "source": [
    "showLens = ShowLens(lensSystem)\n",
    "\n",
    "f, axes = showLens.show_images()\n",
    "plt.show()"
   ]
  },
  {
   "cell_type": "markdown",
   "metadata": {},
   "source": [
    "### assign masks for different objects"
   ]
  },
  {
   "cell_type": "code",
   "execution_count": null,
   "metadata": {
    "collapsed": false
   },
   "outputs": [],
   "source": [
    "ra_pos_2 = -6.5\n",
    "dec_pos_2 = -1.8\n",
    "kwargs_mask = {\"type\": \"circular\", \"ra_c\": 2, \"dec_c\": 1, \"width\": 10, \"radius\": 12}\n",
    "kwargs_mask_source1 = {\"type\": \"circular\", \"ra_c\": 0, \"dec_c\": 0, \"width\": 10, \"radius\": 4}\n",
    "kwargs_mask_source2 = {\"type\": \"circular\", \"ra_c\": ra_pos_2, \"dec_c\": dec_pos_2, \"width\": 10, \"radius\": 2}\n",
    "\n",
    "\n",
    "\n",
    "f, axes = showLens.show_images(ra_pos_2, dec_pos_2, kwargs_mask)\n",
    "plt.show()\n",
    "\n",
    "f, axes = showLens.show_images(ra_pos_2, dec_pos_2, kwargs_mask_source1)\n",
    "plt.show()\n",
    "\n",
    "f, axes = showLens.show_images(ra_pos_2, dec_pos_2, kwargs_mask_source2)\n",
    "plt.show()\n",
    "\n",
    "f, axes = showLens.show_pixel_hist()\n",
    "plt.show()"
   ]
  },
  {
   "cell_type": "code",
   "execution_count": null,
   "metadata": {
    "collapsed": false
   },
   "outputs": [],
   "source": [
    "from easylens.easylens import EasyLens\n",
    "easyLens = EasyLens(lensSystem, frame_bool = {\"g_band\": True, \"r_band\": True, \"i_band\": True,\n",
    "            \"Y_band\": True, \"z_band\": True}, subgrid_res=2)\n",
    "\n",
    "w_SED1 = lensSystem.get_sed_estimate(ra_pos=0, dec_pos=0)\n",
    "w_SED2 = lensSystem.get_sed_estimate(ra_pos_2, dec_pos_2)\n",
    "print w_SED1, w_SED2\n",
    "from easylens.easylens import Source"
   ]
  },
  {
   "cell_type": "markdown",
   "metadata": {},
   "source": [
    "### SED modeling of source 1 (primary the lensing galaxy)"
   ]
  },
  {
   "cell_type": "code",
   "execution_count": null,
   "metadata": {
    "collapsed": false
   },
   "outputs": [],
   "source": [
    "ra_pos_1 = 0\n",
    "dec_pos_1 = 0\n",
    "beta_1 = 1.5\n",
    "n_max_1 = 20\n",
    "\n",
    "source1 = Source(name=\"source1\", ra_pos=ra_pos_1, dec_pos=dec_pos_1, beta=beta_1, n_max=n_max_1, w_SED=w_SED1, lens_bool=False)\n",
    "easyLens.add_source(source1, over_write=True)\n",
    "easyLens.del_source(\"source2\")\n",
    "easyLens.update_mask(kwargs_mask_source1)\n",
    "numPix = easyLens.get_pixels_unmasked()\n",
    "d = easyLens.get_data_vector()\n",
    "C_D_inv = easyLens.get_C_D_inv_vector()\n",
    "\n",
    "for i in range(1):\n",
    "    A = easyLens.get_response()\n",
    "    param_array, model_array = easyLens.get_inverted(A, C_D_inv, d)\n",
    "\n",
    "    data_list = easyLens.get_data_list()\n",
    "    model_list = easyLens.get_model_images(model_array)\n",
    "    residual_list = easyLens.get_residuals(model_array)\n",
    "    de_convolved_list = easyLens.get_deconvolved(param_array)\n",
    "    source_list_g = easyLens.get_sources_original(param_array, \"g_band\")    \n",
    "    \n",
    "    A_sed = easyLens.get_response_sed(param_array)\n",
    "    param_sed_array, model_sed_array = easyLens.get_inverted(A_sed, C_D_inv, d)\n",
    "    w_SED1 = {'g_band': param_sed_array[0], 'r_band': param_sed_array[1], 'i_band': param_sed_array[2], 'Y_band': param_sed_array[3], 'z_band': param_sed_array[4]}\n",
    "    source1 = Source(name=\"source1\", ra_pos=ra_pos_1, dec_pos=dec_pos_1, beta=beta_1, n_max=n_max_1, w_SED=w_SED1, lens_bool=False)\n",
    "    easyLens.add_source(source1, over_write=True)\n",
    "\n",
    "\n",
    "frame_list = easyLens.frame_list\n",
    "print i\n",
    "chi2 = np.sum((model_array-d)**2*C_D_inv)/numPix\n",
    "print chi2\n",
    "# residuals\n",
    "print(\"residual images\")\n",
    "f, axes = showLens.show_list(residual_list, frame_list)\n",
    "plt.show()\n",
    "\n",
    "# sources separate\n",
    "print(\"sources\")\n",
    "f, axes = showLens.show_list(source_list_g, [\"g_band\"])\n",
    "plt.show()"
   ]
  },
  {
   "cell_type": "markdown",
   "metadata": {},
   "source": [
    "### SED modeling of source 2 (primary the source galaxy)"
   ]
  },
  {
   "cell_type": "code",
   "execution_count": null,
   "metadata": {
    "collapsed": false
   },
   "outputs": [],
   "source": [
    "ra_pos_2 = ra_pos_2\n",
    "dec_pos_2 = dec_pos_2\n",
    "beta_2 = 1.\n",
    "n_max_2 = 5\n",
    "\n",
    "source2 = Source(name=\"source1\", ra_pos=ra_pos_2, dec_pos=dec_pos_2, beta=beta_2, n_max=n_max_2, w_SED=w_SED2, lens_bool=False)\n",
    "easyLens.add_source(source2, over_write=True)\n",
    "easyLens.del_source(\"source2\")\n",
    "easyLens.update_mask(kwargs_mask_source2)\n",
    "numPix = easyLens.get_pixels_unmasked()\n",
    "d = easyLens.get_data_vector()\n",
    "C_D_inv = easyLens.get_C_D_inv_vector()\n",
    "\n",
    "for i in range(3):\n",
    "    A = easyLens.get_response()\n",
    "    param_array, model_array = easyLens.get_inverted(A, C_D_inv, d)\n",
    "\n",
    "    data_list = easyLens.get_data_list()\n",
    "    model_list = easyLens.get_model_images(model_array)\n",
    "    residual_list = easyLens.get_residuals(model_array)\n",
    "    de_convolved_list = easyLens.get_deconvolved(param_array)\n",
    "    source_list_g = easyLens.get_sources_original(param_array, \"g_band\")    \n",
    "    \n",
    "    A_sed = easyLens.get_response_sed(param_array)\n",
    "    param_sed_array, model_sed_array = easyLens.get_inverted(A_sed, C_D_inv, d)\n",
    "    w_SED2 = {'g_band': param_sed_array[0], 'r_band': param_sed_array[1], 'i_band': param_sed_array[2], 'Y_band': param_sed_array[3], 'z_band': param_sed_array[4]}\n",
    "    source2 = Source(name=\"source2\", ra_pos=ra_pos_2, dec_pos=dec_pos_2, beta=beta_2, n_max=n_max_2, w_SED=w_SED2, lens_bool=False)\n",
    "    easyLens.add_source(source2, over_write=True)\n",
    "\n",
    "\n",
    "frame_list = easyLens.frame_list\n",
    "print i\n",
    "chi2 = np.sum((model_array-d)**2*C_D_inv)/numPix\n",
    "print chi2\n",
    "# residuals\n",
    "print(\"residual images\")\n",
    "f, axes = showLens.show_list(residual_list, frame_list)\n",
    "plt.show()\n",
    "\n",
    "# sources separate\n",
    "print(\"sources\")\n",
    "f, axes = showLens.show_list(source_list_g, [\"g_band\"])\n",
    "plt.show()"
   ]
  },
  {
   "cell_type": "markdown",
   "metadata": {},
   "source": [
    "## add sources together"
   ]
  },
  {
   "cell_type": "code",
   "execution_count": null,
   "metadata": {
    "collapsed": false
   },
   "outputs": [],
   "source": [
    "beta=1.5\n",
    "n_max = 15\n",
    "source1 = Source(name=\"source1\", ra_pos=0, dec_pos=0, beta=beta, n_max=n_max, w_SED=w_SED1, lens_bool=False)\n",
    "source2 = Source(name=\"source2\", ra_pos=ra_pos_2, dec_pos=dec_pos_2, beta=beta, n_max=n_max, w_SED=w_SED2, lens_bool=False)\n",
    "easyLens.add_source(source1, over_write=True)\n",
    "easyLens.add_source(source2, over_write=True)\n",
    "easyLens.update_mask(kwargs_mask)"
   ]
  },
  {
   "cell_type": "markdown",
   "metadata": {},
   "source": [
    "## joint fit (but unlensed)"
   ]
  },
  {
   "cell_type": "code",
   "execution_count": null,
   "metadata": {
    "collapsed": false
   },
   "outputs": [],
   "source": [
    "d = easyLens.get_data_vector()\n",
    "C_D_inv = easyLens.get_C_D_inv_vector()\n",
    "A = easyLens.get_response()\n",
    "param_array, model_array = easyLens.get_inverted(A, C_D_inv, d)"
   ]
  },
  {
   "cell_type": "code",
   "execution_count": null,
   "metadata": {
    "collapsed": false
   },
   "outputs": [],
   "source": [
    "data_list = easyLens.get_data_list()\n",
    "model_list = easyLens.get_model_images(model_array)\n",
    "residual_list = easyLens.get_residuals(model_array)\n",
    "de_convolved_list = easyLens.get_deconvolved(param_array)\n",
    "source_list_g = easyLens.get_sources_original(param_array, \"g_band\")\n",
    "frame_list = easyLens.frame_list\n",
    "\n",
    "numPix = easyLens.get_pixels_unmasked()\n",
    "chi2 = np.sum((model_array-d)**2*C_D_inv)/numPix\n",
    "print chi2\n",
    "\n",
    "# original images\n",
    "print(\"original images\")\n",
    "f, axes = showLens.show_list(data_list, frame_list)\n",
    "plt.show()\n",
    "\n",
    "\n",
    "# modeled images\n",
    "print(\"modeled images\")\n",
    "f, axes = showLens.show_list(model_list, frame_list)\n",
    "plt.show()\n",
    "\n",
    "# residuals\n",
    "print(\"residual images\")\n",
    "f, axes = showLens.show_list(residual_list, frame_list)\n",
    "plt.show()\n",
    "\n",
    "# de-convolved images\n",
    "print(\"de-convolved images\")\n",
    "f, axes = showLens.show_list(de_convolved_list, frame_list)\n",
    "plt.show()\n",
    "\n",
    "# sources separate\n",
    "print(\"sources\")\n",
    "f, axes = showLens.show_list(source_list_g, [\"g_band\", \"g_band\"])\n",
    "plt.show()"
   ]
  },
  {
   "cell_type": "markdown",
   "metadata": {
    "collapsed": true
   },
   "source": [
    "## joint and lensed fit"
   ]
  },
  {
   "cell_type": "code",
   "execution_count": null,
   "metadata": {
    "collapsed": false
   },
   "outputs": [],
   "source": [
    "beta = 1.5\n",
    "n_max = 5\n",
    "source1 = Source(name=\"source1\", ra_pos=0, dec_pos=0, beta=beta, n_max=n_max, w_SED=w_SED1, lens_bool=False)\n",
    "source2 = Source(name=\"source2\", ra_pos=ra_pos_2, dec_pos=dec_pos_2, beta=0.6, n_max=5, w_SED=w_SED2, lens_bool=True)\n",
    "easyLens.add_source(source1, over_write=True)\n",
    "easyLens.add_source(source2, over_write=True)\n",
    "easyLens.update_mask(kwargs_mask)\n",
    "update = False\n",
    "if update is True:\n",
    "    kwargs_lens = {\"phi_E_sis\": np.mean(samples[:,0]), \"center_x_sis\": np.mean(samples[:,1]), \"center_y_sis\": np.mean(samples[:,2])}\n",
    "    print kwargs_lens\n",
    "#kwargs_lens = {\"phi_E_sis\": 4.7, \"center_x_sis\": -0.55, \"center_y_sis\": -0.3}\n",
    "else:\n",
    "    kwargs_lens = {\"phi_E_sis\": 5.6, \"center_x_sis\": 0.7, \"center_y_sis\": 1.7}\n",
    "easyLens.add_lens(kwargs_lens)"
   ]
  },
  {
   "cell_type": "code",
   "execution_count": null,
   "metadata": {
    "collapsed": false
   },
   "outputs": [],
   "source": [
    "d = easyLens.get_data_vector()\n",
    "C_D_inv = easyLens.get_C_D_inv_vector()\n",
    "A = easyLens.get_response()\n",
    "param_array, model_array = easyLens.get_inverted(A, C_D_inv, d)"
   ]
  },
  {
   "cell_type": "code",
   "execution_count": null,
   "metadata": {
    "collapsed": false
   },
   "outputs": [],
   "source": [
    "save_image = False\n",
    "data_list = easyLens.get_data_list()\n",
    "model_list = easyLens.get_model_images(model_array)\n",
    "residual_list = easyLens.get_residuals(model_array)\n",
    "de_convolved_list = easyLens.get_deconvolved(param_array)\n",
    "source_list_original_g = easyLens.get_sources_original(param_array, \"g_band\")\n",
    "source_list_lensed_g = easyLens.get_sources_lensed(param_array, \"g_band\")\n",
    "source_list_image_g = easyLens.get_sources_image(param_array, \"g_band\")\n",
    "frame_list = easyLens.frame_list\n",
    "\n",
    "numPix = easyLens.get_pixels_unmasked()\n",
    "chi2 = np.sum((model_array-d)**2*C_D_inv)/numPix\n",
    "print chi2\n",
    "\n",
    "# original images\n",
    "print(\"original images\")\n",
    "f, axes = showLens.show_list(data_list, frame_list)\n",
    "if save_image is True:\n",
    "    plt.savefig('original_images.pdf', format='pdf')\n",
    "plt.show()\n",
    "\n",
    "\n",
    "# modeled images\n",
    "print(\"modeled images\")\n",
    "f, axes = showLens.show_list(model_list, frame_list)\n",
    "if save_image is True:\n",
    "    plt.savefig('modeled_images.pdf', format='pdf')\n",
    "plt.show()\n",
    "\n",
    "# residuals\n",
    "print(\"residual images\")\n",
    "f, axes = showLens.show_list(residual_list, frame_list)\n",
    "if save_image is True:\n",
    "    plt.savefig('residual_images.pdf', format='pdf')\n",
    "plt.show()\n",
    "\n",
    "# de-convolved images\n",
    "print(\"de-convolved images\")\n",
    "f, axes = showLens.show_list(de_convolved_list, frame_list)\n",
    "if save_image is True:\n",
    "    plt.savefig('de_convolved_images.pdf', format='pdf')\n",
    "plt.show()\n",
    "\n",
    "# sources separate\n",
    "print(\"sources original\")\n",
    "f, axes = showLens.show_list(source_list_original_g, [\"g_band\", \"g_band\"])\n",
    "if save_image is True:\n",
    "    plt.savefig('original_objects.pdf', format='pdf')\n",
    "plt.show()\n",
    "\n",
    "\n",
    "print(\"sources lensed\")\n",
    "f, axes = showLens.show_list(source_list_lensed_g, [\"g_band\", \"g_band\"])\n",
    "if save_image is True:\n",
    "    plt.savefig('lensed_objects.pdf', format='pdf')\n",
    "plt.show()\n",
    "\n",
    "print(\"sources lensed and convolved\")\n",
    "f, axes = showLens.show_list(source_list_image_g, [\"g_band\", \"g_band\"])\n",
    "if save_image is True:\n",
    "    plt.savefig('lensed_convolved_objects.pdf', format='pdf')\n",
    "plt.show()"
   ]
  },
  {
   "cell_type": "code",
   "execution_count": null,
   "metadata": {
    "collapsed": false
   },
   "outputs": [],
   "source": [
    "from easylens.Fitting.mcmc import MCMC_sampler\n",
    "sampler = MCMC_sampler(easyLens, fix_center=False)\n",
    "walkerRatio = 6\n",
    "n_run = 10\n",
    "n_burn = 10\n",
    "mean_start = [5, 0, 0]\n",
    "sigma_start = [2, 1, 1]\n",
    "lowerLimit = [0, -10, -10]\n",
    "upperLimit = [100, 10, 10]\n",
    "samples = sampler.mcmc_CH(walkerRatio, n_run, n_burn, mean_start, sigma_start, lowerLimit, upperLimit, threadCount=1, init_pos=None, mpi_monch=False)"
   ]
  },
  {
   "cell_type": "code",
   "execution_count": null,
   "metadata": {
    "collapsed": false
   },
   "outputs": [],
   "source": [
    "import corner\n",
    "\n",
    "corner.corner(samples)\n",
    "plt.show()"
   ]
  },
  {
   "cell_type": "code",
   "execution_count": null,
   "metadata": {
    "collapsed": true
   },
   "outputs": [],
   "source": []
  }
 ],
 "metadata": {
  "kernelspec": {
   "display_name": "Python 2",
   "language": "python",
   "name": "python2"
  },
  "language_info": {
   "codemirror_mode": {
    "name": "ipython",
    "version": 2
   },
   "file_extension": ".py",
   "mimetype": "text/x-python",
   "name": "python",
   "nbconvert_exporter": "python",
   "pygments_lexer": "ipython2",
   "version": "2.7.11"
  }
 },
 "nbformat": 4,
 "nbformat_minor": 0
}
