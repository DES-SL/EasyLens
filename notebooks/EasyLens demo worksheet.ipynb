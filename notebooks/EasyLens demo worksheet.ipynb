{
 "cells": [
  {
   "cell_type": "markdown",
   "metadata": {},
   "source": [
    "# EasyLens worksheet"
   ]
  },
  {
   "cell_type": "markdown",
   "metadata": {},
   "source": [
    "## this is a quick an'durty notebook to model strong lenses in multiband survey data"
   ]
  },
  {
   "cell_type": "markdown",
   "metadata": {},
   "source": [
    "### import modules"
   ]
  },
  {
   "cell_type": "code",
   "execution_count": null,
   "metadata": {
    "collapsed": false
   },
   "outputs": [],
   "source": [
    "# external modules\n",
    "import astropy.io.fits as pyfits\n",
    "import astropy.wcs as pywcs\n",
    "import pickle\n",
    "import numpy as np\n",
    "import os\n",
    "import easylens\n",
    "\n",
    "# required is the QSLens module, available here: https://....\n",
    "from easylens.Data.lens_system import LensSystem\n",
    "from easylens.Data.show_lens import ShowLens\n",
    "from easylens.Data.exposure import Exposure\n",
    "import easylens.util as util\n",
    "\n",
    "\n",
    "import matplotlib.pyplot as plt\n",
    "%matplotlib inline\n",
    "from mpl_toolkits.axes_grid1 import AxesGrid, make_axes_locatable\n",
    "#import seaborn as sns"
   ]
  },
  {
   "cell_type": "markdown",
   "metadata": {},
   "source": [
    "### initialize lens system class"
   ]
  },
  {
   "cell_type": "code",
   "execution_count": null,
   "metadata": {
    "collapsed": false
   },
   "outputs": [],
   "source": [
    "\n",
    "# this class contains all the information of the lens system\n",
    "# as a primary input, you need to assign a name and coordiantes\n",
    "\n",
    "# comment: in this version, the coordinates are read out of an image cutout\n",
    "path2image = '/Users/sibirrer/Desktop/sva1_lensing/object_07/y1/g/cutouts/DESJ033056.9318-522813.0188_g.fits'\n",
    "ra_center, dec_center = util.get_ra_dec_center(path2image)\n",
    "\n",
    "\n",
    "\n",
    "lensSystem = LensSystem(name=\"object03\", ra=ra_center, dec=dec_center)"
   ]
  },
  {
   "cell_type": "markdown",
   "metadata": {},
   "source": [
    "### add exposures"
   ]
  },
  {
   "cell_type": "code",
   "execution_count": null,
   "metadata": {
    "collapsed": false,
    "scrolled": true
   },
   "outputs": [],
   "source": [
    "\n",
    "# each exposure must come along with a weight image and a psf image. The class Exposure merges these informations\n",
    "# together in one single class\n",
    "\n",
    "#TODO: this should be automatised and adjusted to how we access the DES data and format.\n",
    "# At the moment, there are local paths assigned.\n",
    "\n",
    "#g-band\n",
    "exposure_g = Exposure(lensSystem.ra, lensSystem.dec)\n",
    "g_path = '/Users/sibirrer/Desktop/sva1_lensing/object_07/y1/g/cutouts/DESJ033056.9318-522813.0188_g.fits'\n",
    "g_psf_path = '/Users/sibirrer/Desktop/sva1_lensing/object_07/y1/g/cutouts/psf_g.fits'\n",
    "g_weight_path = '/Users/sibirrer/Desktop/sva1_lensing/object_07/y1/g/cutouts/DESJ033056.9318-522813.0188_weight_g.fits'\n",
    "exposure_g.load_all(g_path, g_psf_path, g_weight_path)\n",
    "lensSystem.add_image_data(exposure_g, \"g_band\")\n",
    "\n",
    "#r-band\n",
    "exposure_r = Exposure(lensSystem.ra, lensSystem.dec)\n",
    "r_path = '/Users/sibirrer/Desktop/sva1_lensing/object_07/y1/r/cutouts/DESJ033056.9318-522813.0188_r.fits'\n",
    "r_psf_path = '/Users/sibirrer/Desktop/sva1_lensing/object_07/y1/r/cutouts/psf_r.fits'\n",
    "r_weight_path = '/Users/sibirrer/Desktop/sva1_lensing/object_07/y1/r/cutouts/DESJ033056.9318-522813.0188_weight_r.fits'\n",
    "exposure_r.load_all(r_path, r_psf_path, r_weight_path)\n",
    "lensSystem.add_image_data(exposure_r, \"r_band\")\n",
    "\n",
    "#i-band\n",
    "exposure_i = Exposure(lensSystem.ra, lensSystem.dec)\n",
    "i_path = '/Users/sibirrer/Desktop/sva1_lensing/object_07/y1/i/cutouts/DESJ033056.9318-522813.0188_i.fits'\n",
    "i_psf_path = '/Users/sibirrer/Desktop/sva1_lensing/object_07/y1/i/cutouts/psf_i.fits'\n",
    "i_weight_path = '/Users/sibirrer/Desktop/sva1_lensing/object_07/y1/i/cutouts/DESJ033056.9318-522813.0188_weight_i.fits'\n",
    "exposure_i.load_all(i_path, i_psf_path, i_weight_path)\n",
    "lensSystem.add_image_data(exposure_i, \"i_band\")\n",
    "\n",
    "#Y-band\n",
    "exposure_Y = Exposure(lensSystem.ra, lensSystem.dec)\n",
    "Y_path = '/Users/sibirrer/Desktop/sva1_lensing/object_07/y1/Y/cutouts/DESJ033056.9318-522813.0188_Y.fits'\n",
    "Y_psf_path = '/Users/sibirrer/Desktop/sva1_lensing/object_07/y1/Y/cutouts/psf_Y.fits'\n",
    "Y_weight_path = '/Users/sibirrer/Desktop/sva1_lensing/object_07/y1/Y/cutouts/DESJ033056.9318-522813.0188_weight_Y.fits'\n",
    "exposure_Y.load_all(Y_path, Y_psf_path, Y_weight_path)\n",
    "lensSystem.add_image_data(exposure_Y, \"Y_band\")\n",
    "\n",
    "#z-band\n",
    "exposure_z = Exposure(lensSystem.ra, lensSystem.dec)\n",
    "z_path = '/Users/sibirrer/Desktop/sva1_lensing/object_07/y1/z/cutouts/DESJ033056.9318-522813.0188_z.fits'\n",
    "z_psf_path = '/Users/sibirrer/Desktop/sva1_lensing/object_07/y1/z/cutouts/psf_z.fits'\n",
    "z_weight_path = '/Users/sibirrer/Desktop/sva1_lensing/object_07/y1/z/cutouts/DESJ033056.9318-522813.0188_weight_z.fits'\n",
    "exposure_z.load_all(z_path, z_psf_path, z_weight_path)\n",
    "lensSystem.add_image_data(exposure_z, \"z_band\")\n"
   ]
  },
  {
   "cell_type": "markdown",
   "metadata": {},
   "source": [
    "### show images"
   ]
  },
  {
   "cell_type": "code",
   "execution_count": null,
   "metadata": {
    "collapsed": false
   },
   "outputs": [],
   "source": [
    "showLens = ShowLens(lensSystem)\n",
    "\n",
    "f, axes = showLens.show_images()\n",
    "plt.show()"
   ]
  },
  {
   "cell_type": "markdown",
   "metadata": {},
   "source": [
    "### assign masks for different objects"
   ]
  },
  {
   "cell_type": "code",
   "execution_count": null,
   "metadata": {
    "collapsed": false
   },
   "outputs": [],
   "source": [
    "ra_pos_2 = -6.5\n",
    "dec_pos_2 = -1.8\n",
    "kwargs_mask = {\"type\": \"circular\", \"ra_c\": 2, \"dec_c\": 1, \"width\": 10, \"radius\": 12}\n",
    "kwargs_mask_source1 = {\"type\": \"circular\", \"ra_c\": 0, \"dec_c\": 0, \"width\": 10, \"radius\": 4}\n",
    "kwargs_mask_source2 = {\"type\": \"circular\", \"ra_c\": ra_pos_2, \"dec_c\": dec_pos_2, \"width\": 10, \"radius\": 2}\n",
    "\n",
    "\n",
    "\n",
    "f, axes = showLens.show_images(ra_pos_2, dec_pos_2, kwargs_mask)\n",
    "plt.show()\n",
    "\n",
    "f, axes = showLens.show_images(ra_pos_2, dec_pos_2, kwargs_mask_source1)\n",
    "plt.show()\n",
    "\n",
    "f, axes = showLens.show_images(ra_pos_2, dec_pos_2, kwargs_mask_source2)\n",
    "plt.show()\n",
    "\n",
    "f, axes = showLens.show_pixel_hist()\n",
    "plt.show()"
   ]
  },
  {
   "cell_type": "code",
   "execution_count": null,
   "metadata": {
    "collapsed": false
   },
   "outputs": [],
   "source": [
    "from easylens.easylens import EasyLens\n",
    "easyLens = EasyLens(lensSystem, frame_bool = {\"g_band\": True, \"r_band\": True, \"i_band\": True,\n",
    "            \"Y_band\": True, \"z_band\": True}, subgrid_res=2)\n",
    "\n",
    "w_SED1 = lensSystem.get_sed_estimate(ra_pos=0, dec_pos=0)\n",
    "w_SED2 = lensSystem.get_sed_estimate(ra_pos_2, dec_pos_2)\n",
    "print w_SED1, w_SED2\n",
    "from easylens.easylens import Source"
   ]
  },
  {
   "cell_type": "markdown",
   "metadata": {},
   "source": [
    "### SED modeling of source 1 (primary the lensing galaxy)"
   ]
  },
  {
   "cell_type": "code",
   "execution_count": null,
   "metadata": {
    "collapsed": false
   },
   "outputs": [],
   "source": [
    "ra_pos_1 = 0\n",
    "dec_pos_1 = 0\n",
    "beta_1 = 1.5\n",
    "n_max_1 = 20\n",
    "\n",
    "source1 = Source(name=\"source1\", ra_pos=ra_pos_1, dec_pos=dec_pos_1, beta=beta_1, n_max=n_max_1, w_SED=w_SED1, lens_bool=False)\n",
    "easyLens.add_source(source1, over_write=True)\n",
    "easyLens.del_source(\"source2\")\n",
    "easyLens.update_mask(kwargs_mask_source1)\n",
    "numPix = easyLens.get_pixels_unmasked()\n",
    "d = easyLens.get_data_vector()\n",
    "C_D_inv = easyLens.get_C_D_inv_vector()\n",
    "\n",
    "for i in range(1):\n",
    "    A = easyLens.get_response()\n",
    "    param_array, model_array = easyLens.get_inverted(A, C_D_inv, d)\n",
    "\n",
    "    data_list = easyLens.get_data_list()\n",
    "    model_list = easyLens.get_model_images(model_array)\n",
    "    residual_list = easyLens.get_residuals(model_array)\n",
    "    de_convolved_list = easyLens.get_deconvolved(param_array)\n",
    "    source_list_g = easyLens.get_sources_original(param_array, \"g_band\")    \n",
    "    \n",
    "    A_sed = easyLens.get_response_sed(param_array)\n",
    "    param_sed_array, model_sed_array = easyLens.get_inverted(A_sed, C_D_inv, d)\n",
    "    w_SED1 = {'g_band': param_sed_array[0], 'r_band': param_sed_array[1], 'i_band': param_sed_array[2], 'Y_band': param_sed_array[3], 'z_band': param_sed_array[4]}\n",
    "    source1 = Source(name=\"source1\", ra_pos=ra_pos_1, dec_pos=dec_pos_1, beta=beta_1, n_max=n_max_1, w_SED=w_SED1, lens_bool=False)\n",
    "    easyLens.add_source(source1, over_write=True)\n",
    "\n",
    "\n",
    "frame_list = easyLens.frame_list\n",
    "print i\n",
    "chi2 = np.sum((model_array-d)**2*C_D_inv)/numPix\n",
    "print chi2\n",
    "# residuals\n",
    "print(\"residual images\")\n",
    "f, axes = showLens.show_list(residual_list, frame_list)\n",
    "plt.show()\n",
    "\n",
    "# sources separate\n",
    "print(\"sources\")\n",
    "f, axes = showLens.show_list(source_list_g, [\"g_band\"])\n",
    "plt.show()"
   ]
  },
  {
   "cell_type": "markdown",
   "metadata": {},
   "source": [
    "### SED modeling of source 2 (primary the source galaxy)"
   ]
  },
  {
   "cell_type": "code",
   "execution_count": null,
   "metadata": {
    "collapsed": false
   },
   "outputs": [],
   "source": [
    "ra_pos_2 = ra_pos_2\n",
    "dec_pos_2 = dec_pos_2\n",
    "beta_2 = 1.\n",
    "n_max_2 = 5\n",
    "\n",
    "source2 = Source(name=\"source1\", ra_pos=ra_pos_2, dec_pos=dec_pos_2, beta=beta_2, n_max=n_max_2, w_SED=w_SED2, lens_bool=False)\n",
    "easyLens.add_source(source2, over_write=True)\n",
    "easyLens.del_source(\"source2\")\n",
    "easyLens.update_mask(kwargs_mask_source2)\n",
    "numPix = easyLens.get_pixels_unmasked()\n",
    "d = easyLens.get_data_vector()\n",
    "C_D_inv = easyLens.get_C_D_inv_vector()\n",
    "\n",
    "for i in range(3):\n",
    "    A = easyLens.get_response()\n",
    "    param_array, model_array = easyLens.get_inverted(A, C_D_inv, d)\n",
    "\n",
    "    data_list = easyLens.get_data_list()\n",
    "    model_list = easyLens.get_model_images(model_array)\n",
    "    residual_list = easyLens.get_residuals(model_array)\n",
    "    de_convolved_list = easyLens.get_deconvolved(param_array)\n",
    "    source_list_g = easyLens.get_sources_original(param_array, \"g_band\")    \n",
    "    \n",
    "    A_sed = easyLens.get_response_sed(param_array)\n",
    "    param_sed_array, model_sed_array = easyLens.get_inverted(A_sed, C_D_inv, d)\n",
    "    w_SED2 = {'g_band': param_sed_array[0], 'r_band': param_sed_array[1], 'i_band': param_sed_array[2], 'Y_band': param_sed_array[3], 'z_band': param_sed_array[4]}\n",
    "    source2 = Source(name=\"source2\", ra_pos=ra_pos_2, dec_pos=dec_pos_2, beta=beta_2, n_max=n_max_2, w_SED=w_SED2, lens_bool=False)\n",
    "    easyLens.add_source(source2, over_write=True)\n",
    "\n",
    "\n",
    "frame_list = easyLens.frame_list\n",
    "print i\n",
    "chi2 = np.sum((model_array-d)**2*C_D_inv)/numPix\n",
    "print chi2\n",
    "# residuals\n",
    "print(\"residual images\")\n",
    "f, axes = showLens.show_list(residual_list, frame_list)\n",
    "plt.show()\n",
    "\n",
    "# sources separate\n",
    "print(\"sources\")\n",
    "f, axes = showLens.show_list(source_list_g, [\"g_band\"])\n",
    "plt.show()"
   ]
  },
  {
   "cell_type": "markdown",
   "metadata": {},
   "source": [
    "## add sources together"
   ]
  },
  {
   "cell_type": "code",
   "execution_count": null,
   "metadata": {
    "collapsed": false
   },
   "outputs": [],
   "source": [
    "beta=1.5\n",
    "n_max = 15\n",
    "source1 = Source(name=\"source1\", ra_pos=0, dec_pos=0, beta=beta, n_max=n_max, w_SED=w_SED1, lens_bool=False)\n",
    "source2 = Source(name=\"source2\", ra_pos=ra_pos_2, dec_pos=dec_pos_2, beta=beta, n_max=n_max, w_SED=w_SED2, lens_bool=False)\n",
    "easyLens.add_source(source1, over_write=True)\n",
    "easyLens.add_source(source2, over_write=True)\n",
    "easyLens.update_mask(kwargs_mask)"
   ]
  },
  {
   "cell_type": "markdown",
   "metadata": {},
   "source": [
    "## joint fit (but unlensed)"
   ]
  },
  {
   "cell_type": "code",
   "execution_count": null,
   "metadata": {
    "collapsed": false
   },
   "outputs": [],
   "source": [
    "d = easyLens.get_data_vector()\n",
    "C_D_inv = easyLens.get_C_D_inv_vector()\n",
    "A = easyLens.get_response()\n",
    "param_array, model_array = easyLens.get_inverted(A, C_D_inv, d)"
   ]
  },
  {
   "cell_type": "code",
   "execution_count": null,
   "metadata": {
    "collapsed": false
   },
   "outputs": [],
   "source": [
    "data_list = easyLens.get_data_list()\n",
    "model_list = easyLens.get_model_images(model_array)\n",
    "residual_list = easyLens.get_residuals(model_array)\n",
    "de_convolved_list = easyLens.get_deconvolved(param_array)\n",
    "source_list_g = easyLens.get_sources_original(param_array, \"g_band\")\n",
    "frame_list = easyLens.frame_list\n",
    "\n",
    "numPix = easyLens.get_pixels_unmasked()\n",
    "chi2 = np.sum((model_array-d)**2*C_D_inv)/numPix\n",
    "print chi2\n",
    "\n",
    "# original images\n",
    "print(\"original images\")\n",
    "f, axes = showLens.show_list(data_list, frame_list)\n",
    "plt.show()\n",
    "\n",
    "\n",
    "# modeled images\n",
    "print(\"modeled images\")\n",
    "f, axes = showLens.show_list(model_list, frame_list)\n",
    "plt.show()\n",
    "\n",
    "# residuals\n",
    "print(\"residual images\")\n",
    "f, axes = showLens.show_list(residual_list, frame_list)\n",
    "plt.show()\n",
    "\n",
    "# de-convolved images\n",
    "print(\"de-convolved images\")\n",
    "f, axes = showLens.show_list(de_convolved_list, frame_list)\n",
    "plt.show()\n",
    "\n",
    "# sources separate\n",
    "print(\"sources\")\n",
    "f, axes = showLens.show_list(source_list_g, [\"g_band\", \"g_band\"])\n",
    "plt.show()"
   ]
  },
  {
   "cell_type": "markdown",
   "metadata": {
    "collapsed": true
   },
   "source": [
    "## joint and lensed fit"
   ]
  },
  {
   "cell_type": "code",
   "execution_count": null,
   "metadata": {
    "collapsed": false
   },
   "outputs": [],
   "source": [
    "beta = 1.5\n",
    "n_max = 5\n",
    "source1 = Source(name=\"source1\", ra_pos=0, dec_pos=0, beta=beta, n_max=n_max, w_SED=w_SED1, lens_bool=False)\n",
    "source2 = Source(name=\"source2\", ra_pos=ra_pos_2, dec_pos=dec_pos_2, beta=0.6, n_max=5, w_SED=w_SED2, lens_bool=True)\n",
    "easyLens.add_source(source1, over_write=True)\n",
    "easyLens.add_source(source2, over_write=True)\n",
    "easyLens.update_mask(kwargs_mask)\n",
    "update = False\n",
    "if update is True:\n",
    "    kwargs_lens = {\"phi_E_sis\": np.mean(samples[:,0]), \"center_x_sis\": np.mean(samples[:,1]), \"center_y_sis\": np.mean(samples[:,2])}\n",
    "    print kwargs_lens\n",
    "#kwargs_lens = {\"phi_E_sis\": 4.7, \"center_x_sis\": -0.55, \"center_y_sis\": -0.3}\n",
    "else:\n",
    "    kwargs_lens = {\"phi_E_sis\": 5.6, \"center_x_sis\": 0.7, \"center_y_sis\": 1.7}\n",
    "easyLens.add_lens(kwargs_lens)"
   ]
  },
  {
   "cell_type": "code",
   "execution_count": null,
   "metadata": {
    "collapsed": false
   },
   "outputs": [],
   "source": [
    "d = easyLens.get_data_vector()\n",
    "C_D_inv = easyLens.get_C_D_inv_vector()\n",
    "A = easyLens.get_response()\n",
    "param_array, model_array = easyLens.get_inverted(A, C_D_inv, d)"
   ]
  },
  {
   "cell_type": "code",
   "execution_count": null,
   "metadata": {
    "collapsed": false
   },
   "outputs": [],
   "source": [
    "save_image = False\n",
    "data_list = easyLens.get_data_list()\n",
    "model_list = easyLens.get_model_images(model_array)\n",
    "residual_list = easyLens.get_residuals(model_array)\n",
    "de_convolved_list = easyLens.get_deconvolved(param_array)\n",
    "source_list_original_g = easyLens.get_sources_original(param_array, \"g_band\")\n",
    "source_list_lensed_g = easyLens.get_sources_lensed(param_array, \"g_band\")\n",
    "source_list_image_g = easyLens.get_sources_image(param_array, \"g_band\")\n",
    "frame_list = easyLens.frame_list\n",
    "\n",
    "numPix = easyLens.get_pixels_unmasked()\n",
    "chi2 = np.sum((model_array-d)**2*C_D_inv)/numPix\n",
    "print chi2\n",
    "\n",
    "# original images\n",
    "print(\"original images\")\n",
    "f, axes = showLens.show_list(data_list, frame_list)\n",
    "if save_image is True:\n",
    "    plt.savefig('original_images.pdf', format='pdf')\n",
    "plt.show()\n",
    "\n",
    "\n",
    "# modeled images\n",
    "print(\"modeled images\")\n",
    "f, axes = showLens.show_list(model_list, frame_list)\n",
    "if save_image is True:\n",
    "    plt.savefig('modeled_images.pdf', format='pdf')\n",
    "plt.show()\n",
    "\n",
    "# residuals\n",
    "print(\"residual images\")\n",
    "f, axes = showLens.show_list(residual_list, frame_list)\n",
    "if save_image is True:\n",
    "    plt.savefig('residual_images.pdf', format='pdf')\n",
    "plt.show()\n",
    "\n",
    "# de-convolved images\n",
    "print(\"de-convolved images\")\n",
    "f, axes = showLens.show_list(de_convolved_list, frame_list)\n",
    "if save_image is True:\n",
    "    plt.savefig('de_convolved_images.pdf', format='pdf')\n",
    "plt.show()\n",
    "\n",
    "# sources separate\n",
    "print(\"sources original\")\n",
    "f, axes = showLens.show_list(source_list_original_g, [\"g_band\", \"g_band\"])\n",
    "if save_image is True:\n",
    "    plt.savefig('original_objects.pdf', format='pdf')\n",
    "plt.show()\n",
    "\n",
    "\n",
    "print(\"sources lensed\")\n",
    "f, axes = showLens.show_list(source_list_lensed_g, [\"g_band\", \"g_band\"])\n",
    "if save_image is True:\n",
    "    plt.savefig('lensed_objects.pdf', format='pdf')\n",
    "plt.show()\n",
    "\n",
    "print(\"sources lensed and convolved\")\n",
    "f, axes = showLens.show_list(source_list_image_g, [\"g_band\", \"g_band\"])\n",
    "if save_image is True:\n",
    "    plt.savefig('lensed_convolved_objects.pdf', format='pdf')\n",
    "plt.show()"
   ]
  },
  {
   "cell_type": "code",
   "execution_count": null,
   "metadata": {
    "collapsed": false
   },
   "outputs": [],
   "source": [
    "from easylens.Fitting.mcmc import MCMC_sampler\n",
    "sampler = MCMC_sampler(easyLens, fix_center=False)\n",
    "walkerRatio = 6\n",
    "n_run = 10\n",
    "n_burn = 10\n",
    "mean_start = [5, 0, 0]\n",
    "sigma_start = [2, 1, 1]\n",
    "lowerLimit = [0, -10, -10]\n",
    "upperLimit = [100, 10, 10]\n",
    "samples = sampler.mcmc_CH(walkerRatio, n_run, n_burn, mean_start, sigma_start, lowerLimit, upperLimit, threadCount=1, init_pos=None, mpi_monch=False)"
   ]
  },
  {
   "cell_type": "code",
   "execution_count": null,
   "metadata": {
    "collapsed": false
   },
   "outputs": [],
   "source": [
    "import corner\n",
    "\n",
    "corner.corner(samples)\n",
    "plt.show()"
   ]
  },
  {
   "cell_type": "code",
   "execution_count": null,
   "metadata": {
    "collapsed": true
   },
   "outputs": [],
   "source": []
  }
 ],
 "metadata": {
  "kernelspec": {
   "display_name": "Python 2",
   "language": "python",
   "name": "python2"
  },
  "language_info": {
   "codemirror_mode": {
    "name": "ipython",
    "version": 2
   },
   "file_extension": ".py",
   "mimetype": "text/x-python",
   "name": "python",
   "nbconvert_exporter": "python",
   "pygments_lexer": "ipython2",
   "version": "2.7.10"
  }
 },
 "nbformat": 4,
 "nbformat_minor": 0
}
